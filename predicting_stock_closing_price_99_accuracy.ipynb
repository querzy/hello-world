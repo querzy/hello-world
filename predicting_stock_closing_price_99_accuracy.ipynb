{
  "nbformat": 4,
  "nbformat_minor": 0,
  "metadata": {
    "kernelspec": {
      "display_name": "Python 3",
      "language": "python",
      "name": "python3"
    },
    "language_info": {
      "codemirror_mode": {
        "name": "ipython",
        "version": 3
      },
      "file_extension": ".py",
      "mimetype": "text/x-python",
      "name": "python",
      "nbconvert_exporter": "python",
      "pygments_lexer": "ipython3",
      "version": "3.7.6"
    },
    "papermill": {
      "duration": 48.023292,
      "end_time": "2021-03-11T07:04:04.658207",
      "environment_variables": {},
      "exception": null,
      "input_path": "__notebook__.ipynb",
      "output_path": "__notebook__.ipynb",
      "parameters": {},
      "start_time": "2021-03-11T07:03:16.634915",
      "version": "2.1.0"
    },
    "colab": {
      "name": "predicting-stock-closing-price-99-accuracy.ipynb",
      "provenance": [],
      "collapsed_sections": [],
      "include_colab_link": true
    }
  },
  "cells": [
    {
      "cell_type": "markdown",
      "metadata": {
        "id": "view-in-github",
        "colab_type": "text"
      },
      "source": [
        "<a href=\"https://colab.research.google.com/github/querzy/hello-world/blob/master/predicting_stock_closing_price_99_accuracy.ipynb\" target=\"_parent\"><img src=\"https://colab.research.google.com/assets/colab-badge.svg\" alt=\"Open In Colab\"/></a>"
      ]
    },
    {
      "cell_type": "markdown",
      "metadata": {
        "papermill": {
          "duration": 0.012137,
          "end_time": "2021-03-11T07:03:21.421890",
          "exception": false,
          "start_time": "2021-03-11T07:03:21.409753",
          "status": "completed"
        },
        "tags": [],
        "id": "HuXq6nZGTov5"
      },
      "source": [
        "# Predicting Stock's Closing Price using Random Forest"
      ]
    },
    {
      "cell_type": "markdown",
      "metadata": {
        "papermill": {
          "duration": 0.008675,
          "end_time": "2021-03-11T07:03:21.439712",
          "exception": false,
          "start_time": "2021-03-11T07:03:21.431037",
          "status": "completed"
        },
        "tags": [],
        "id": "vk1qPD_6TowI"
      },
      "source": [
        "We are going to use Random Forest Regression to predict Share's Closing price. Data is pulled from Yahoo Finance. Incase you would like to predict your preferred share price then visit [Yahoo Finance](https://in.finance.yahoo.com/)"
      ]
    },
    {
      "cell_type": "markdown",
      "metadata": {
        "papermill": {
          "duration": 0.008748,
          "end_time": "2021-03-11T07:03:21.457505",
          "exception": false,
          "start_time": "2021-03-11T07:03:21.448757",
          "status": "completed"
        },
        "tags": [],
        "id": "OPuQji9jTowK"
      },
      "source": [
        "Import necessary libraries"
      ]
    },
    {
      "cell_type": "code",
      "metadata": {
        "execution": {
          "iopub.execute_input": "2021-03-11T07:03:43.524213Z",
          "iopub.status.busy": "2021-03-11T07:03:43.523543Z",
          "iopub.status.idle": "2021-03-11T07:04:03.584573Z",
          "shell.execute_reply": "2021-03-11T07:04:03.585446Z"
        },
        "papermill": {
          "duration": 20.077615,
          "end_time": "2021-03-11T07:04:03.585651",
          "exception": false,
          "start_time": "2021-03-11T07:03:43.508036",
          "status": "completed"
        },
        "tags": [],
        "colab": {
          "base_uri": "https://localhost:8080/"
        },
        "id": "DKD4ra_dTowm",
        "outputId": "1bb6d77d-abec-4aea-fa0f-b79830bd5f5e"
      },
      "source": [
        "import pandas as pd\n",
        "import numpy as np\n",
        "import pandas_datareader as web\n",
        "import numpy as np\n",
        "import pandas as pd\n",
        "import matplotlib.pyplot as plt\n",
        "import seaborn as sns\n",
        "from sklearn.preprocessing import StandardScaler\n",
        "from sklearn.model_selection import GridSearchCV\n",
        "from scipy import stats\n",
        "# Example YESBANK.NS or RELIANCE.NS\n",
        "#Update ticker from Yahoo Finance or edit below link for code to accept runtime inputs\n",
        "#stockname = input(\"Type Stock Ticker: \")\n",
        "#stockname = \"SBIN.NS\"\n",
        "stockname = \"AUDUSD=X\"\n",
        "stockname = stockname\n",
        "from datetime import date \n",
        "from datetime import timedelta \n",
        "  \n",
        "# Get today's date \n",
        "today = date.today() \n",
        "print(\"Today is: \", today) \n",
        "  \n",
        "# Yesterday date \n",
        "yesterday = today - timedelta(days = 1) \n",
        "threedaybeforeyesterday = today - timedelta(days = 3) \n",
        "print(\"Yesterday was: \", yesterday) \n",
        "print(threedaybeforeyesterday)\n",
        "#Importing Live data from Yahoo Finance\n",
        "#Get the stock quote \n",
        "dataset = web.DataReader(stockname, data_source='yahoo', start='2015-01-01', end=today) \n",
        "#Show the data\n",
        "dataset = dataset.reset_index()\n",
        "#data_frame.reset_index(drop=True, inplace=True) \n",
        "dataset\n",
        "dataset.reset_index()\n",
        "print(dataset.head())\n",
        "# Extract the training and test data\n",
        "\n",
        "X = dataset.drop([\"Close\",\"Date\"], axis=1)  # all rows, no label\n",
        "y = dataset.pop(\"Close\")  # all rows, label only\n",
        "\n",
        "from sklearn.model_selection import train_test_split\n",
        "\n",
        "X_train, X_test, y_train, y_test = train_test_split(X, y, test_size=0.25, random_state=42)\n",
        "#Scaling data\n",
        "from sklearn.preprocessing import MinMaxScaler\n",
        " \n",
        "scaler = MinMaxScaler(feature_range=(0,1))\n",
        " \n",
        "## Transform the data into\n",
        "X_train = scaler.fit_transform(X_train)\n",
        "X_test = scaler.transform(X_test)\n",
        "from sklearn.ensemble import RandomForestRegressor\n",
        "\n",
        "regressor = RandomForestRegressor(n_estimators=500, random_state=0)\n",
        "regressor.fit(X_train, y_train)\n",
        "y_pred = regressor.predict(X_test)\n",
        "\n",
        "from sklearn import metrics\n",
        "\n",
        "print('Mean Absolute Error:', metrics.mean_absolute_error(y_test, y_pred))\n",
        "print('Mean Squared Error:', metrics.mean_squared_error(y_test, y_pred))\n",
        "RSME = np.sqrt(metrics.mean_squared_error(y_test, y_pred))\n",
        "print('Root Mean Squared Error:', np.sqrt(metrics.mean_squared_error(y_test, y_pred)))\n",
        "from sklearn.metrics import accuracy_score,mean_squared_error,r2_score\n",
        "accuracy = r2_score(y_test, y_pred)\n",
        "print(\"Train r2_score:\",r2_score(y_test, y_pred))\n",
        "from sklearn.metrics import r2_score   \n",
        "r2_score(y_test, y_pred)   \n",
        "adjustedaccuracy = 1-(1-r2_score(y_test, y_pred))*((len(X_test)-1)/(len(X_test)-len(X_test[0])-1))\n",
        "print(1-(1-r2_score(y_test, y_pred))*((len(X_test)-1)/(len(X_test)-len(X_test[0])-1)))\n",
        "#Predicting Today's Stock's Closing price with accuracy score\n",
        "#Predicting Todays closing price\n",
        "Quote = web.DataReader(stockname, data_source='yahoo', start='2015-01-01', end= today)\n",
        "Quote = Quote.reset_index()\n",
        "\n",
        "## Creating a new dataframe\n",
        "new_data_train = Quote.drop([\"Close\",\"Date\"], axis=1)\n",
        "new_data_test = Quote.filter(['Close'])\n",
        "\n",
        "##Scale the data to be values between 0 and 1\n",
        "new_data_train = scaler.fit_transform(new_data_train)\n",
        "predicted_price = regressor.predict(new_data_train)\n",
        "\n",
        "## Display the pridicted price for next day\n",
        "print(stockname + \" Share closing Price  \" + str(predicted_price[-1]))\n",
        "print(\"accuracy \"+ str(accuracy))\n",
        "print(\"Adjusted accuracy \"+ str(adjustedaccuracy))\n",
        "print(\"Error \" + str(RSME))\n",
        "print(\" \")"
      ],
      "execution_count": null,
      "outputs": [
        {
          "output_type": "stream",
          "text": [
            "Today is:  2021-03-11\n",
            "Yesterday was:  2021-03-10\n",
            "2021-03-08\n",
            "        Date      High       Low      Open     Close  Volume  Adj Close\n",
            "0 2015-01-01  0.817127  0.816993  0.817127  0.817127     0.0   0.817127\n",
            "1 2015-01-02  0.818465  0.810373  0.818197  0.817795     0.0   0.817795\n",
            "2 2015-01-05  0.810767  0.803859  0.807363  0.806777     0.0   0.806777\n",
            "3 2015-01-06  0.815927  0.808865  0.809520  0.809979     0.0   0.809979\n",
            "4 2015-01-07  0.808277  0.803729  0.807885  0.808016     0.0   0.808016\n",
            "Mean Absolute Error: 0.00019395862482331024\n",
            "Mean Squared Error: 2.0837681120587762e-07\n",
            "Root Mean Squared Error: 0.0004564830897260901\n",
            "Train r2_score: 0.9998765336032709\n",
            "0.999874962783974\n",
            "AUDUSD=X Share closing Price  0.7770193656778752\n",
            "accuracy 0.9998765336032709\n",
            "Adjusted accuracy 0.999874962783974\n",
            "Error 0.0004564830897260901\n"
          ],
          "name": "stdout"
        }
      ]
    }
  ]
}